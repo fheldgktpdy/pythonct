{
 "cells": [
  {
   "cell_type": "code",
   "execution_count": 12,
   "metadata": {},
   "outputs": [
    {
     "name": "stdout",
     "output_type": "stream",
     "text": [
      "17\n",
      "1597\n"
     ]
    }
   ],
   "source": [
    "n=int(input())\n",
    "\n",
    "lis =[0]*(n+1)\n",
    "lis[0] = 0\n",
    "lis[1] = 1\n",
    "for i in range(2,n+1):\n",
    "    lis[i] = lis[i-1] + lis[i-2]\n",
    "\n",
    "print(lis[-1])\n",
    "# def pibo(n):\n",
    "#     if n==0:\n",
    "#         return 0\n",
    "#     elif n==1:\n",
    "#         return 1\n",
    "#     return pibo(n-2) + pibo(n-1)\n",
    "# print(pibo(n))"
   ]
  }
 ],
 "metadata": {
  "kernelspec": {
   "display_name": "Python 3",
   "language": "python",
   "name": "python3"
  },
  "language_info": {
   "codemirror_mode": {
    "name": "ipython",
    "version": 3
   },
   "file_extension": ".py",
   "mimetype": "text/x-python",
   "name": "python",
   "nbconvert_exporter": "python",
   "pygments_lexer": "ipython3",
   "version": "3.8.3"
  }
 },
 "nbformat": 4,
 "nbformat_minor": 4
}
