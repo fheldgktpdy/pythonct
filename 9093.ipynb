{
 "cells": [
  {
   "cell_type": "code",
   "execution_count": 26,
   "metadata": {},
   "outputs": [
    {
     "name": "stdout",
     "output_type": "stream",
     "text": [
      "1\n",
      "yogurt azumma\n",
      "trugoy ammuza\n"
     ]
    }
   ],
   "source": [
    "#join or split함수로 무언가를 해야할것 같은 느낌\n",
    "n = int(input())\n",
    "\n",
    "def str_rev(a):\n",
    "    sentence = \"\"\n",
    "    for i in range(len(a)-1,-1,-1):\n",
    "        sentence+=a[i]\n",
    "    return sentence\n",
    "    \n",
    "for i in range(n):\n",
    "    lis=[]\n",
    "    lis = list(map(str,input().split()))#나누어서 input\n",
    "    for i in range(len(lis)): #문자열을 뒤집는 함수.. 가 있을까\n",
    "        lis[i] = str_rev(lis[i])\n",
    "    lis = \" \".join(lis)        \n",
    "    print(lis)"
   ]
  },
  {
   "cell_type": "code",
   "execution_count": null,
   "metadata": {},
   "outputs": [],
   "source": []
  },
  {
   "cell_type": "code",
   "execution_count": null,
   "metadata": {},
   "outputs": [],
   "source": []
  },
  {
   "cell_type": "code",
   "execution_count": null,
   "metadata": {},
   "outputs": [],
   "source": []
  }
 ],
 "metadata": {
  "kernelspec": {
   "display_name": "Python 3",
   "language": "python",
   "name": "python3"
  },
  "language_info": {
   "codemirror_mode": {
    "name": "ipython",
    "version": 3
   },
   "file_extension": ".py",
   "mimetype": "text/x-python",
   "name": "python",
   "nbconvert_exporter": "python",
   "pygments_lexer": "ipython3",
   "version": "3.8.3"
  }
 },
 "nbformat": 4,
 "nbformat_minor": 4
}
