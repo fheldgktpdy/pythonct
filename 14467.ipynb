{
 "cells": [
  {
   "cell_type": "code",
   "execution_count": 18,
   "metadata": {},
   "outputs": [
    {
     "name": "stdout",
     "output_type": "stream",
     "text": [
      "8\n",
      "3 1\n",
      "3 0\n",
      "6 0\n",
      "2 1\n",
      "4 1\n",
      "3 0\n",
      "4 0\n",
      "3 1\n",
      "[[3, 1], [3, 0], [6, 0], [2, 1], [4, 1], [3, 0], [4, 0], [3, 1]] 1\n",
      "[[3, 1], [3, 0], [6, 0], [2, 1], [4, 1], [3, 0], [4, 0], [3, 1]] 1\n",
      "[[3, 1], [3, 0], [6, 0], [2, 1], [4, 1], [3, 0], [4, 0], [3, 1]] 2\n",
      "[[3, 1], [3, 0], [6, 0], [2, 1], [4, 1], [3, 0], [4, 0], [3, 1]] 3\n"
     ]
    }
   ],
   "source": [
    "# 이중 리스트에 담은뒤, 횟수세주기\n",
    "N = int(input())\n",
    "lis = []\n",
    "num = 0\n",
    "for i in range(N):\n",
    "    lis.append(list(map(int,input().split())))\n",
    "for i in range(len(lis)-1):\n",
    "    for j in range(i+1,len(lis)):\n",
    "        if lis[i][0]==lis[j][0]:\n",
    "            if lis[i][1]!=lis[j][1]:\n",
    "                num+=1\n",
    "            print(lis,num)\n",
    "            break"
   ]
  },
  {
   "cell_type": "code",
   "execution_count": null,
   "metadata": {},
   "outputs": [],
   "source": []
  },
  {
   "cell_type": "code",
   "execution_count": null,
   "metadata": {},
   "outputs": [],
   "source": []
  }
 ],
 "metadata": {
  "kernelspec": {
   "display_name": "Python 3",
   "language": "python",
   "name": "python3"
  },
  "language_info": {
   "codemirror_mode": {
    "name": "ipython",
    "version": 3
   },
   "file_extension": ".py",
   "mimetype": "text/x-python",
   "name": "python",
   "nbconvert_exporter": "python",
   "pygments_lexer": "ipython3",
   "version": "3.8.3"
  }
 },
 "nbformat": 4,
 "nbformat_minor": 4
}
