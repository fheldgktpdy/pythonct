{
 "cells": [
  {
   "cell_type": "code",
   "execution_count": 6,
   "metadata": {},
   "outputs": [
    {
     "name": "stdout",
     "output_type": "stream",
     "text": [
      "2\n",
      "1\n",
      "3\n",
      "6\n",
      "2\n",
      "3\n",
      "10\n"
     ]
    }
   ],
   "source": [
    "def people(k,n):\n",
    "    sum = 0\n",
    "    if k==0:\n",
    "        return n\n",
    "    for i in range(1,n+1):\n",
    "        sum += people(k-1,i)\n",
    "    \n",
    "    return sum\n",
    "\n",
    "t = int(input())\n",
    "for i in range(t):    #k층의 n호에는 몇명이사는가\n",
    "    k= int(input())\n",
    "    n= int(input())\n",
    "    print(people(k,n))"
   ]
  },
  {
   "cell_type": "code",
   "execution_count": null,
   "metadata": {},
   "outputs": [],
   "source": []
  }
 ],
 "metadata": {
  "kernelspec": {
   "display_name": "Python 3",
   "language": "python",
   "name": "python3"
  },
  "language_info": {
   "codemirror_mode": {
    "name": "ipython",
    "version": 3
   },
   "file_extension": ".py",
   "mimetype": "text/x-python",
   "name": "python",
   "nbconvert_exporter": "python",
   "pygments_lexer": "ipython3",
   "version": "3.8.3"
  }
 },
 "nbformat": 4,
 "nbformat_minor": 4
}
