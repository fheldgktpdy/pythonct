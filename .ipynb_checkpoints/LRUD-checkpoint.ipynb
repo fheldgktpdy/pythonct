{
 "cells": [
  {
   "cell_type": "code",
   "execution_count": null,
   "metadata": {},
   "outputs": [],
   "source": [
    "#너무 직관적인 code. \n",
    "\n",
    "N = int(input())\n",
    "lis = list(map(str,input().split()))\n",
    "jwau = 1\n",
    "sangha = 1\n",
    "for i in lis:\n",
    "    if i=='L':\n",
    "        if jwau==1:\n",
    "            jwau+=0\n",
    "        else:\n",
    "            jwau-=1\n",
    "    elif i=='R':\n",
    "        if jwau==N:\n",
    "            jwau+=0\n",
    "        else:\n",
    "            jwau+=1\n",
    "    elif i=='U':\n",
    "        if sangha==1:\n",
    "            sangha+=0\n",
    "        else:\n",
    "            sangha-=1\n",
    "    elif i=='D':\n",
    "        if sangha==N:\n",
    "            sangha+=0\n",
    "        else:\n",
    "            sangha+=1\n",
    "    print(sangha,jwau)\n",
    "#L,R은 좌우로 움직인다\n",
    "#1에서 L불가, N에서 R불가\n",
    "#U,D은 상하로 움직인다\n",
    "#1에서 U불가, N에서 D불가"
   ]
  }
 ],
 "metadata": {
  "kernelspec": {
   "display_name": "Python 3",
   "language": "python",
   "name": "python3"
  },
  "language_info": {
   "codemirror_mode": {
    "name": "ipython",
    "version": 3
   },
   "file_extension": ".py",
   "mimetype": "text/x-python",
   "name": "python",
   "nbconvert_exporter": "python",
   "pygments_lexer": "ipython3",
   "version": "3.8.3"
  }
 },
 "nbformat": 4,
 "nbformat_minor": 4
}
