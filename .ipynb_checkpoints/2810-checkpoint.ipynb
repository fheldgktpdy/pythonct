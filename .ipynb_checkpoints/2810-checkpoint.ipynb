{
 "cells": [
  {
   "cell_type": "code",
   "execution_count": 19,
   "metadata": {
    "scrolled": true
   },
   "outputs": [
    {
     "name": "stdout",
     "output_type": "stream",
     "text": [
      "9\n",
      "SLLLLSSLL\n",
      "7\n"
     ]
    }
   ],
   "source": [
    "n = int(input())\n",
    "a = str(input())\n",
    "res = 0\n",
    "for i in range(len(a)):\n",
    "    if a[i]=='L':\n",
    "        res+=1\n",
    "if res==0:\n",
    "    print(len(a))\n",
    "else:\n",
    "    print(len(a)-int(0.5*res))\n",
    "\n",
    "#반례\n",
    "#SSS\n",
    "# S와 LL의 경우로 나누어 생각"
   ]
  },
  {
   "cell_type": "code",
   "execution_count": null,
   "metadata": {},
   "outputs": [],
   "source": []
  }
 ],
 "metadata": {
  "kernelspec": {
   "display_name": "Python 3",
   "language": "python",
   "name": "python3"
  },
  "language_info": {
   "codemirror_mode": {
    "name": "ipython",
    "version": 3
   },
   "file_extension": ".py",
   "mimetype": "text/x-python",
   "name": "python",
   "nbconvert_exporter": "python",
   "pygments_lexer": "ipython3",
   "version": "3.8.3"
  }
 },
 "nbformat": 4,
 "nbformat_minor": 4
}
