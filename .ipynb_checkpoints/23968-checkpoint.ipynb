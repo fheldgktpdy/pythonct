{
 "cells": [
  {
   "cell_type": "code",
   "execution_count": 9,
   "metadata": {},
   "outputs": [
    {
     "name": "stdout",
     "output_type": "stream",
     "text": [
      "6 10\n",
      "4 6 5 1 3 2\n",
      "5 1\n"
     ]
    }
   ],
   "source": [
    "a,k = map(int,input().split())\n",
    "lis = list(map(int,input().split()))\n",
    "sum = 0\n",
    "for i in range(len(lis)):\n",
    "    for j in range(len(lis)):\n",
    "        if lis[j] >lis[i]:\n",
    "            sum+=1\n",
    "            if sum==k:\n",
    "                print(i,j)\n",
    "            lis[i],lis[j] = lis[j],lis[i]\n",
    "if sum<k:\n",
    "    print(-1)"
   ]
  },
  {
   "cell_type": "code",
   "execution_count": null,
   "metadata": {},
   "outputs": [],
   "source": []
  }
 ],
 "metadata": {
  "kernelspec": {
   "display_name": "Python 3",
   "language": "python",
   "name": "python3"
  },
  "language_info": {
   "codemirror_mode": {
    "name": "ipython",
    "version": 3
   },
   "file_extension": ".py",
   "mimetype": "text/x-python",
   "name": "python",
   "nbconvert_exporter": "python",
   "pygments_lexer": "ipython3",
   "version": "3.8.3"
  }
 },
 "nbformat": 4,
 "nbformat_minor": 4
}
