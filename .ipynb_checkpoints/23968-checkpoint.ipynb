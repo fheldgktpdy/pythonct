{
 "cells": [
  {
   "cell_type": "code",
   "execution_count": 21,
   "metadata": {
    "scrolled": true
   },
   "outputs": [
    {
     "name": "stdout",
     "output_type": "stream",
     "text": [
      "6 12\n",
      "4 6 5 1 3 2\n",
      "-1\n"
     ]
    }
   ],
   "source": [
    "a,k = map(int,input().split())\n",
    "li = list(map(int,input().split()))\n",
    "sum=0\n",
    "num = len(li)-1\n",
    "for j in range(len(li)):\n",
    "    for i in range(num):\n",
    "        if li[i] > li[i+1]:\n",
    "            li[i],li[i+1] = li[i+1],li[i]\n",
    "            sum+=1\n",
    "    num-=1\n",
    "if sum<k:\n",
    "    print(-1)\n",
    "else:\n",
    "    print(sum)"
   ]
  },
  {
   "cell_type": "code",
   "execution_count": null,
   "metadata": {},
   "outputs": [],
   "source": []
  }
 ],
 "metadata": {
  "kernelspec": {
   "display_name": "Python 3",
   "language": "python",
   "name": "python3"
  },
  "language_info": {
   "codemirror_mode": {
    "name": "ipython",
    "version": 3
   },
   "file_extension": ".py",
   "mimetype": "text/x-python",
   "name": "python",
   "nbconvert_exporter": "python",
   "pygments_lexer": "ipython3",
   "version": "3.8.3"
  }
 },
 "nbformat": 4,
 "nbformat_minor": 4
}
