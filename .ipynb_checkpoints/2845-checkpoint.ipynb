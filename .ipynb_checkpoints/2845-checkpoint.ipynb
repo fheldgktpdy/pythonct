{
 "cells": [
  {
   "cell_type": "code",
   "execution_count": 12,
   "metadata": {},
   "outputs": [
    {
     "name": "stdout",
     "output_type": "stream",
     "text": [
      "e5\n",
      "e 5\n",
      "6\n"
     ]
    }
   ],
   "source": [
    "k = input()\n",
    "#cdef, 3456일때 : 모든경로이동가능\n",
    "a = ['c','d','e','f']\n",
    "b = ['3','4',5,'6']\n",
    "s=0\n",
    "for i in range(0,4):\n",
    "    if k[0]==a[i] or k[1]==b[i]:\n",
    "        s+=1\n",
    "    print(s)\n",
    "if s==2:\n",
    "    print(8)\n",
    "elif s==1:\n",
    "    print(6)\n",
    "else:\n",
    "    print(2)"
   ]
  },
  {
   "cell_type": "code",
   "execution_count": null,
   "metadata": {},
   "outputs": [],
   "source": []
  }
 ],
 "metadata": {
  "kernelspec": {
   "display_name": "Python 3",
   "language": "python",
   "name": "python3"
  },
  "language_info": {
   "codemirror_mode": {
    "name": "ipython",
    "version": 3
   },
   "file_extension": ".py",
   "mimetype": "text/x-python",
   "name": "python",
   "nbconvert_exporter": "python",
   "pygments_lexer": "ipython3",
   "version": "3.8.3"
  }
 },
 "nbformat": 4,
 "nbformat_minor": 4
}
