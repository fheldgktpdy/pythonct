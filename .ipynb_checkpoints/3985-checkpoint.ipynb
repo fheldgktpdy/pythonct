{
 "cells": [
  {
   "cell_type": "code",
   "execution_count": 19,
   "metadata": {},
   "outputs": [
    {
     "name": "stdout",
     "output_type": "stream",
     "text": [
      "10\n",
      "2\n",
      "1 5\n",
      "6 10\n",
      "1\n",
      "1\n"
     ]
    }
   ],
   "source": [
    "L = int(input())\n",
    "n = int(input())\n",
    "lis = []\n",
    "for i in range(n):\n",
    "    lis.append(list(map(int,input().split())))\n",
    "\n",
    "#실제로 받는 조각 구하기\n",
    "realpiece = 0\n",
    "realpiece_num = 0\n",
    "Long = []\n",
    "num = 0\n",
    "for i in range(L+1):\n",
    "    Long.append(0)\n",
    "for i in range(len(lis)):\n",
    "    piece = 0\n",
    "    num+=1\n",
    "    for i in range(lis[i][0],lis[i][1]+1):\n",
    "        if Long[i]==0:\n",
    "            piece+=1\n",
    "            Long[i]=1\n",
    "        else:continue\n",
    "    if piece > realpiece:\n",
    "        realpiece = piece\n",
    "        realpiece_num = num\n",
    "#원하는 조각구하기    \n",
    "diff = 0\n",
    "diff_num = 0\n",
    "for i in range(len(lis)):\n",
    "    if lis[i][1] - lis[i][0] > diff:\n",
    "        diff = lis[i][1] - lis[i][0]\n",
    "        diff_num = i\n",
    "print(diff_num+1)  #원하는 조각이 같다면, 번호가 작은사람 : 차\n",
    "print(realpiece_num)  #실제로 받은 조각이 가장 큰사람"
   ]
  },
  {
   "cell_type": "code",
   "execution_count": null,
   "metadata": {},
   "outputs": [],
   "source": []
  },
  {
   "cell_type": "code",
   "execution_count": null,
   "metadata": {},
   "outputs": [],
   "source": []
  }
 ],
 "metadata": {
  "kernelspec": {
   "display_name": "Python 3",
   "language": "python",
   "name": "python3"
  },
  "language_info": {
   "codemirror_mode": {
    "name": "ipython",
    "version": 3
   },
   "file_extension": ".py",
   "mimetype": "text/x-python",
   "name": "python",
   "nbconvert_exporter": "python",
   "pygments_lexer": "ipython3",
   "version": "3.8.3"
  }
 },
 "nbformat": 4,
 "nbformat_minor": 4
}
