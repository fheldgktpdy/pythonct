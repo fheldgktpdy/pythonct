{
 "cells": [
  {
   "cell_type": "code",
   "execution_count": 5,
   "metadata": {},
   "outputs": [
    {
     "name": "stdout",
     "output_type": "stream",
     "text": [
      "2\n",
      "3 0\n",
      "3 1\n",
      "[[3, 0], [3, 1]]\n"
     ]
    }
   ],
   "source": [
    "# 이중 리스트에 담은뒤, 횟수세주기\n",
    "N = int(input())\n",
    "lis = []\n",
    "num = 0\n",
    "for i in range(N):\n",
    "    lis.append(list(map(int,input().split())))\n",
    "for i in range(len(lis)-1):\n",
    "    for j in range(i+1,len(lis)):\n",
    "    if lis[i][0]==lis[j][0]:\n",
    "        if lis[i][1]!=lis[j][1]:\n",
    "            num+=1\n",
    "        del lis[j]"
   ]
  },
  {
   "cell_type": "code",
   "execution_count": null,
   "metadata": {},
   "outputs": [],
   "source": []
  }
 ],
 "metadata": {
  "kernelspec": {
   "display_name": "Python 3",
   "language": "python",
   "name": "python3"
  },
  "language_info": {
   "codemirror_mode": {
    "name": "ipython",
    "version": 3
   },
   "file_extension": ".py",
   "mimetype": "text/x-python",
   "name": "python",
   "nbconvert_exporter": "python",
   "pygments_lexer": "ipython3",
   "version": "3.8.3"
  }
 },
 "nbformat": 4,
 "nbformat_minor": 4
}
