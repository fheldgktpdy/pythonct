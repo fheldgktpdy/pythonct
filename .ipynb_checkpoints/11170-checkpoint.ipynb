{
 "cells": [
  {
   "cell_type": "code",
   "execution_count": 5,
   "metadata": {},
   "outputs": [
    {
     "name": "stdout",
     "output_type": "stream",
     "text": [
      "1\n",
      "0 20\n",
      "3\n"
     ]
    }
   ],
   "source": [
    "#count 함수!!\n",
    "\n",
    "t = int(input())\n",
    "for i in range(t):\n",
    "    answer = 0\n",
    "    n,m = map(int,input().split())\n",
    "    for j in range(n,m+1):\n",
    "        for k in range(len(str(j))):\n",
    "            if str(j)[k]=='0':\n",
    "                answer+=1\n",
    "    print(answer)"
   ]
  },
  {
   "cell_type": "code",
   "execution_count": null,
   "metadata": {},
   "outputs": [],
   "source": []
  },
  {
   "cell_type": "code",
   "execution_count": null,
   "metadata": {},
   "outputs": [],
   "source": []
  }
 ],
 "metadata": {
  "kernelspec": {
   "display_name": "Python 3",
   "language": "python",
   "name": "python3"
  },
  "language_info": {
   "codemirror_mode": {
    "name": "ipython",
    "version": 3
   },
   "file_extension": ".py",
   "mimetype": "text/x-python",
   "name": "python",
   "nbconvert_exporter": "python",
   "pygments_lexer": "ipython3",
   "version": "3.8.3"
  }
 },
 "nbformat": 4,
 "nbformat_minor": 4
}
