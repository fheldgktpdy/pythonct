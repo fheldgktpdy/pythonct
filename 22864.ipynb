{
 "cells": [
  {
   "cell_type": "code",
   "execution_count": 11,
   "metadata": {
    "scrolled": true
   },
   "outputs": [
    {
     "name": "stdout",
     "output_type": "stream",
     "text": [
      "6 3 3 6\n",
      "24\n"
     ]
    }
   ],
   "source": [
    "#1시간 일할 시 피로도 A, 일처리 B만큼, 쉴시 피로도 -C 피로도 음수시 그냥 0. 일안하고 쉬었기 때문에 일은 x\n",
    "#최대 피로도 M. 하루는 24시간\n",
    "#하루에 최대 얼마나 일할 수 있는가? : 번아웃 되지 않는 선에서, 최대한일하기.\n",
    "a,b,c,m = map(int,input().split())\n",
    "tired = 0\n",
    "res = 0\n",
    "if a>m:\n",
    "    print(0)\n",
    "else:\n",
    "    for i in range(24):\n",
    "        if tired==m or tired+a>m:\n",
    "            tired-=c\n",
    "            if tired<0:\n",
    "                tired=0\n",
    "        else:\n",
    "            tired+=a\n",
    "            res+=b\n",
    "    print(res)"
   ]
  },
  {
   "cell_type": "code",
   "execution_count": null,
   "metadata": {},
   "outputs": [],
   "source": []
  }
 ],
 "metadata": {
  "kernelspec": {
   "display_name": "Python 3",
   "language": "python",
   "name": "python3"
  },
  "language_info": {
   "codemirror_mode": {
    "name": "ipython",
    "version": 3
   },
   "file_extension": ".py",
   "mimetype": "text/x-python",
   "name": "python",
   "nbconvert_exporter": "python",
   "pygments_lexer": "ipython3",
   "version": "3.8.3"
  }
 },
 "nbformat": 4,
 "nbformat_minor": 4
}
