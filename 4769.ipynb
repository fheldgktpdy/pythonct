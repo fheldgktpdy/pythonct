{
 "cells": [
  {
   "cell_type": "code",
   "execution_count": 22,
   "metadata": {},
   "outputs": [
    {
     "name": "stdout",
     "output_type": "stream",
     "text": [
      "5 8 20\n",
      "Case 1: 14\n",
      "0 0 0\n"
     ]
    }
   ],
   "source": [
    "num=0\n",
    "while True:\n",
    "    l,p,v = list(map(int,input().split()))\n",
    "    if l==0 and p==0 and v==0:break\n",
    "    else:\n",
    "        num+=1\n",
    "        res = 0\n",
    "        mock = (v//p)*l\n",
    "        name = v%p\n",
    "        if name>=l:\n",
    "            res = mock +l\n",
    "        else:\n",
    "            res = mock+name\n",
    "        print(\"Case %d:\"%num,res)"
   ]
  },
  {
   "cell_type": "code",
   "execution_count": null,
   "metadata": {},
   "outputs": [],
   "source": []
  }
 ],
 "metadata": {
  "kernelspec": {
   "display_name": "Python 3",
   "language": "python",
   "name": "python3"
  },
  "language_info": {
   "codemirror_mode": {
    "name": "ipython",
    "version": 3
   },
   "file_extension": ".py",
   "mimetype": "text/x-python",
   "name": "python",
   "nbconvert_exporter": "python",
   "pygments_lexer": "ipython3",
   "version": "3.8.3"
  }
 },
 "nbformat": 4,
 "nbformat_minor": 4
}
