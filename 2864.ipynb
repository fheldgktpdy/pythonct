{
 "cells": [
  {
   "cell_type": "code",
   "execution_count": 31,
   "metadata": {},
   "outputs": [
    {
     "name": "stdout",
     "output_type": "stream",
     "text": [
      "16796 58786\n",
      "74580 85582\n"
     ]
    }
   ],
   "source": [
    "a,b = map(int,input().split())\n",
    "\n",
    "def deter(e):    #나누는 10의 배수 찾기\n",
    "    mul=int(1)\n",
    "    while True:\n",
    "        if e>mul and e<mul*10:\n",
    "            return mul\n",
    "        else:\n",
    "            mul*=10\n",
    "\n",
    "def chois(a,b):            #최소값 : 6을 모조리 5로 본 경우\n",
    "\n",
    "    res1 = 0\n",
    "    while b>=1:\n",
    "        if a//b==6:\n",
    "            res1 += b*5\n",
    "        else:\n",
    "            res1 += b*(a//b)\n",
    "        a = a%b\n",
    "        b  = b/10\n",
    "    return res1\n",
    "\n",
    "def choid(a,b):             #최대값 : 5를 모조리 6으로 본 경우\n",
    "    res1 = 0\n",
    "    while b>=1:\n",
    "        if a//b==5:\n",
    "            res1 += b*6\n",
    "        else:\n",
    "            res1 += b*(a//b)\n",
    "        a = a%b\n",
    "        b  = b/10\n",
    "    return res1\n",
    "\n",
    "print (int(chois(a,deter(a))+chois(b,deter(b))),int(choid(a,deter(a))+choid(b,deter(b))))"
    #replace
   ]
  },
  {
   "cell_type": "code",
   "execution_count": null,
   "metadata": {},
   "outputs": [],
   "source": []
  }
 ],
 "metadata": {
  "kernelspec": {
   "display_name": "Python 3",
   "language": "python",
   "name": "python3"
  },
  "language_info": {
   "codemirror_mode": {
    "name": "ipython",
    "version": 3
   },
   "file_extension": ".py",
   "mimetype": "text/x-python",
   "name": "python",
   "nbconvert_exporter": "python",
   "pygments_lexer": "ipython3",
   "version": "3.8.3"
  }
 },
 "nbformat": 4,
 "nbformat_minor": 4
}
