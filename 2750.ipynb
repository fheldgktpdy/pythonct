{
 "cells": [
  {
   "cell_type": "code",
   "execution_count": 4,
   "metadata": {
    "scrolled": false
   },
   "outputs": [
    {
     "name": "stdout",
     "output_type": "stream",
     "text": [
      "4\n",
      "5\n",
      "8\n",
      "1\n",
      "3\n",
      "전 [5, 8, 1, 3]\n",
      "후 [5, 8, 1, 3]\n",
      "전 [5, 8, 1, 3]\n",
      "후 [1, 8, 5, 3]\n",
      "전 [1, 8, 5, 3]\n",
      "후 [1, 8, 5, 3]\n",
      "전 [1, 8, 5, 3]\n",
      "후 [1, 5, 8, 3]\n",
      "전 [1, 5, 8, 3]\n",
      "후 [1, 3, 8, 5]\n",
      "전 [1, 3, 8, 5]\n",
      "후 [1, 3, 5, 8]\n"
     ]
    }
   ],
   "source": [
    "n = int(input())\n",
    "num = []\n",
    "for i in range(n):\n",
    "    a = int(input())\n",
    "    num.append(a)\n",
    "for j in range(n-1):\n",
    "    for k in range(j+1,n):\n",
    "        print(\"전\",num)\n",
    "        if num[j] > num[k]:\n",
    "            num[j],num[k] = num[k], num[j]\n",
    "        print(\"후\",num)"
   ]
  },
  {
   "cell_type": "code",
   "execution_count": null,
   "metadata": {},
   "outputs": [],
   "source": []
  }
 ],
 "metadata": {
  "kernelspec": {
   "display_name": "Python 3",
   "language": "python",
   "name": "python3"
  },
  "language_info": {
   "codemirror_mode": {
    "name": "ipython",
    "version": 3
   },
   "file_extension": ".py",
   "mimetype": "text/x-python",
   "name": "python",
   "nbconvert_exporter": "python",
   "pygments_lexer": "ipython3",
   "version": "3.8.3"
  }
 },
 "nbformat": 4,
 "nbformat_minor": 4
}
