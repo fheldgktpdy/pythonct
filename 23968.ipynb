{
 "cells": [
  {
   "cell_type": "code",
   "execution_count": 1,
   "metadata": {},
   "outputs": [
    {
     "name": "stdout",
     "output_type": "stream",
     "text": [
      "6 10\n",
      "4 6 5 1 3 2\n",
      "[4, 6, 5, 1, 3, 2]\n",
      "[4, 6, 5, 1, 3, 2]\n",
      "[4, 5, 6, 1, 3, 2]\n",
      "[4, 5, 1, 6, 3, 2]\n",
      "[4, 5, 1, 3, 6, 2]\n",
      "[4, 5, 1, 3, 2, 6]\n",
      "[4, 5, 1, 3, 2, 6]\n",
      "[4, 1, 5, 3, 2, 6]\n",
      "[4, 1, 3, 5, 2, 6]\n",
      "[4, 1, 3, 2, 5, 6]\n",
      "[1, 4, 3, 2, 5, 6]\n",
      "[1, 3, 4, 2, 5, 6]\n",
      "[1, 3, 2, 4, 5, 6]\n",
      "[1, 3, 2, 4, 5, 6]\n",
      "[1, 2, 3, 4, 5, 6]\n"
     ]
    }
   ],
   "source": [
    "a,k = map(int,input().split())\n",
    "li = list(map(int,input().split()))\n",
    "sum = 0\n",
    "for i in range(a - 1, 0, -1):\n",
    "    for j in range(i):\n",
    "        print(li)\n",
    "        if li[j] > li[j + 1]:\n",
    "            li[j], li[j + 1] = li[j + 1], li[j]"
   ]
  },
  {
   "cell_type": "code",
   "execution_count": null,
   "metadata": {},
   "outputs": [],
   "source": []
  }
 ],
 "metadata": {
  "kernelspec": {
   "display_name": "Python 3",
   "language": "python",
   "name": "python3"
  },
  "language_info": {
   "codemirror_mode": {
    "name": "ipython",
    "version": 3
   },
   "file_extension": ".py",
   "mimetype": "text/x-python",
   "name": "python",
   "nbconvert_exporter": "python",
   "pygments_lexer": "ipython3",
   "version": "3.8.3"
  }
 },
 "nbformat": 4,
 "nbformat_minor": 4
}
