{
 "cells": [
  {
   "cell_type": "code",
   "execution_count": null,
   "metadata": {},
   "outputs": [],
   "source": [
    "'''오른쪽, 아래로만 이동가능\n",
    "0,0 출발/ 맨아래 오른쪽칸 도달시 종료\n",
    "'''\n",
    "#열,행 = x,y= 바깥리스트, 안쪽리스트\n",
    "def dfs(x,y):\n",
    "    a = graph[x][y]\n",
    "    if a!=\"v\":\n",
    "        if x+a<size:\n",
    "            graph[x][y] = \"v\"\n",
    "            dfs(x+a,y)\n",
    "        elif y+a<size: \n",
    "            graph[x][y] = \"v\"\n",
    "            dfs(x,y+a)\n",
    "size = int(input())\n",
    "graph=[]\n",
    "for i in range(size):\n",
    "    graph.append(list(map(int,input().split())))"
   ]
  },
  {
   "cell_type": "code",
   "execution_count": null,
   "metadata": {},
   "outputs": [],
   "source": []
  }
 ],
 "metadata": {
  "kernelspec": {
   "display_name": "Python 3",
   "language": "python",
   "name": "python3"
  },
  "language_info": {
   "codemirror_mode": {
    "name": "ipython",
    "version": 3
   },
   "file_extension": ".py",
   "mimetype": "text/x-python",
   "name": "python",
   "nbconvert_exporter": "python",
   "pygments_lexer": "ipython3",
   "version": "3.8.3"
  }
 },
 "nbformat": 4,
 "nbformat_minor": 4
}
