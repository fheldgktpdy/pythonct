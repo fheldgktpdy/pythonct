{
 "cells": [
  {
   "cell_type": "code",
   "execution_count": 2,
   "metadata": {},
   "outputs": [
    {
     "name": "stdout",
     "output_type": "stream",
     "text": [
      "4 4\n",
      "----\n",
      "----\n",
      "----\n",
      "----\n",
      "16\n"
     ]
    }
   ],
   "source": [
    "'''\n",
    "-일시 오른쪽으로, ㅣ일시 아래로 확인.\n",
    "좌표 풀이법.\n",
    "모두 false? or 0으로 설정해두고, 움직이면 1로 변환.\n",
    "DFS _ 재귀 풀이법으로 !\n",
    "n,x가 세로\n",
    "m,y가 가로\n",
    "'''\n",
    "def dfs(x,y):\n",
    "    if x>=n or x<0 or y>=m or y<0:\n",
    "        return False\n",
    "        \n",
    "        if graph[x][y]=='|':\n",
    "            graph[x][y] = 1\n",
    "            dfs(x-1,y)\n",
    "            dfs(x+1,y)\n",
    "\n",
    "        if graph[x][y]=='-':\n",
    "            graph[x][y] = 1\n",
    "            dfs(x,y+1)\n",
    "            dfs(x,y-1)\n",
    "\n",
    "n,m = map(int,input().split())\n",
    "graph=[]\n",
    "for i in range(n):\n",
    "    graph.append(list(map(str,input())))\n",
    "\n",
    "count = 0\n",
    "for i in range(n):\n",
    "    for j in range(m):\n",
    "        if graph[i][j] == '-' or graph[i][j] == '|':\n",
    "            dfs(i,j)    # 노드가 '-'이나 '|'일 경우에 재귀함수 호출\n",
    "            count += 1\n",
    "print(count)"
   ]
  },
  {
   "cell_type": "code",
   "execution_count": null,
   "metadata": {},
   "outputs": [],
   "source": []
  }
 ],
 "metadata": {
  "kernelspec": {
   "display_name": "Python 3",
   "language": "python",
   "name": "python3"
  },
  "language_info": {
   "codemirror_mode": {
    "name": "ipython",
    "version": 3
   },
   "file_extension": ".py",
   "mimetype": "text/x-python",
   "name": "python",
   "nbconvert_exporter": "python",
   "pygments_lexer": "ipython3",
   "version": "3.8.3"
  }
 },
 "nbformat": 4,
 "nbformat_minor": 4
}
