{
 "cells": [
  {
   "cell_type": "code",
   "execution_count": 19,
   "metadata": {
    "scrolled": true
   },
   "outputs": [
    {
     "name": "stdout",
     "output_type": "stream",
     "text": [
      "1\n",
      "5 3 6\n",
      "0 2\n",
      "1 2\n",
      "2 2\n",
      "3 2\n",
      "4 2\n",
      "4 0\n",
      "[[0, 0, 1], [0, 0, 1], [0, 0, 1], [0, 0, 1], [1, 0, 1]]\n"
     ]
    }
   ],
   "source": [
    "t = int(input())\n",
    "for i in range(t):\n",
    "    graph=[]\n",
    "    m,n,k = map(int,input().split())  #m이 가로, n이 세로, k는 배추가 심어진 위치x\n",
    "    for i in range(m):\n",
    "        graph.append([0]*n)              #도표의 가로길이만큼 graph len\n",
    "    for j in range(k):\n",
    "        x,y = map(int,input().split())\n",
    "        graph[x][y]=1\n",
    "\n",
    "def dfs(x,y):\n",
    "    if graph[x][y]==1:\n",
    "        graph[x][y]=3\n",
    "        if x>=0 and x<m and y>=0 and y<n:\n",
    "            def(x-1,y)\n",
    "            def(x+1,y)\n",
    "            def(x,y-1)\n",
    "            def(x,y+1)\n",
    "    \n",
    "    if graph[x][y]==0:\n",
    "        graph[x][y]=3\n",
    "        return\n",
    "    \n",
    "    if graph[x][y]==3:\n",
    "        return\n",
    "    \n",
    "    \n"
   ]
  },
  {
   "cell_type": "code",
   "execution_count": 18,
   "metadata": {
    "scrolled": true
   },
   "outputs": [
    {
     "name": "stdout",
     "output_type": "stream",
     "text": [
      "[[0, 0, 0, 0, 0, 0, 0], [0, 0, 0, 0, 0, 0, 0], [0, 0, 0, 0, 0, 0, 0], [0, 0, 0, 0, 0, 0, 0], [0, 0, 0, 0, 0, 0, 0], [0]]\n"
     ]
    }
   ],
   "source": [
    "graph=[]\n",
    "for i in range(5):\n",
    "    graph.append([0]*7)   \n",
    "graph.append([0]) \n",
    "print(graph)"
   ]
  },
  {
   "cell_type": "code",
   "execution_count": null,
   "metadata": {},
   "outputs": [],
   "source": []
  }
 ],
 "metadata": {
  "kernelspec": {
   "display_name": "Python 3",
   "language": "python",
   "name": "python3"
  },
  "language_info": {
   "codemirror_mode": {
    "name": "ipython",
    "version": 3
   },
   "file_extension": ".py",
   "mimetype": "text/x-python",
   "name": "python",
   "nbconvert_exporter": "python",
   "pygments_lexer": "ipython3",
   "version": "3.8.3"
  }
 },
 "nbformat": 4,
 "nbformat_minor": 4
}
