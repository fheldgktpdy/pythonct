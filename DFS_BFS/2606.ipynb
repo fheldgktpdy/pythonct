{
 "cells": [
  {
   "cell_type": "code",
   "execution_count": 11,
   "metadata": {
    "scrolled": false
   },
   "outputs": [
    {
     "name": "stdout",
     "output_type": "stream",
     "text": [
      "5\n",
      "5\n",
      "1 2\n",
      "2 3\n",
      "3 4\n",
      "4 5\n",
      "2 4\n",
      "4\n"
     ]
    }
   ],
   "source": [
    "com = int(input())\n",
    "bind = int(input())\n",
    "\n",
    "graph=[[] for _ in range(n+1) ]\n",
    "for _ in range(bind):\n",
    "    x,y = map(int,input().split())\n",
    "    graph[x].append(y)\n",
    "    graph[y].append(x)\n",
    "\n",
    "virus_com=[0]*(com+1)\n",
    "\n",
    "\n",
    "def dfs(graph,a,virus_com):\n",
    "    virus_com[a] = 1\n",
    "    for i in (graph[a]):\n",
    "        if virus_com[i]==0:\n",
    "            dfs(graph,i,virus_com)\n",
    "    return True\n",
    "dfs(graph,1,virus_com)\n",
    "print(virus_com.count(1)-1)"
   ]
  },
  {
   "cell_type": "code",
   "execution_count": 5,
   "metadata": {
    "scrolled": true
   },
   "outputs": [
    {
     "name": "stdout",
     "output_type": "stream",
     "text": [
      "[0, 0, 0, 0, 0, 0, 0]\n"
     ]
    }
   ],
   "source": [
    "print([0]*7)"
   ]
  },
  {
   "cell_type": "code",
   "execution_count": null,
   "metadata": {},
   "outputs": [],
   "source": []
  }
 ],
 "metadata": {
  "kernelspec": {
   "display_name": "Python 3",
   "language": "python",
   "name": "python3"
  },
  "language_info": {
   "codemirror_mode": {
    "name": "ipython",
    "version": 3
   },
   "file_extension": ".py",
   "mimetype": "text/x-python",
   "name": "python",
   "nbconvert_exporter": "python",
   "pygments_lexer": "ipython3",
   "version": "3.8.3"
  }
 },
 "nbformat": 4,
 "nbformat_minor": 4
}
