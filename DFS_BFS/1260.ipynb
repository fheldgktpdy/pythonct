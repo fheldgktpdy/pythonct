{
 "cells": [
  {
   "cell_type": "code",
   "execution_count": 28,
   "metadata": {
    "scrolled": false
   },
   "outputs": [
    {
     "name": "stdout",
     "output_type": "stream",
     "text": [
      "5 5 3\n",
      "5 4\n",
      "5 2\n",
      "1 2\n",
      "3 4\n",
      "3 1\n",
      "3 1 2 5 4 \n",
      "3 1 4 2 5 "
     ]
    }
   ],
   "source": [
    "from collections import deque\n",
    "\n",
    "\n",
    "def dfs(graph,start,visited_dfs):\n",
    "    \n",
    "    visited_dfs[start] = 1\n",
    "    print(start, end=' ')\n",
    "    for i in graph[start]:\n",
    "        if not visited_dfs[i]:\n",
    "            dfs(graph,i,visited_dfs)\n",
    "    \n",
    "def bfs(graph,start,visited_bfs):\n",
    "    queue = deque()\n",
    "    queue.append(start)\n",
    "    visited_bfs[start] = 1\n",
    "    \n",
    "    while queue:\n",
    "        v = queue.popleft()\n",
    "        print(v, end= ' ')\n",
    "        for i in graph[v]:\n",
    "            if visited_bfs[i]==0:\n",
    "                queue.append(i)\n",
    "                visited_bfs[i]=1\n",
    "        \n",
    "\n",
    "n,m,v = map(int,input().split())\n",
    "graph = [[] for _ in range(n+1)]\n",
    "for _ in range(m):\n",
    "    x,y = map(int,input().split())\n",
    "    graph[x].append(y)\n",
    "    graph[y].append(x)\n",
    "for j in range(len(graph)):\n",
    "    graph[j].sort()\n",
    "visited_dfs = [0]*(n+1)\n",
    "visited_bfs = [0]*(n+1)\n",
    "\n",
    "\n",
    "    \n",
    "dfs(graph,v,visited_dfs)\n",
    "print()\n",
    "bfs(graph,v,visited_bfs)"
   ]
  },
  {
   "cell_type": "code",
   "execution_count": 24,
   "metadata": {
    "scrolled": true
   },
   "outputs": [
    {
     "name": "stdout",
     "output_type": "stream",
     "text": [
      "[3, 2, 1]\n"
     ]
    }
   ],
   "source": [
    "graph = [[3,2,1],[6,8,2,1],[4,6,2]]\n",
    "for j in graph:\n",
    "    graph[j] = sorted(graph[j])\n",
    "print(graph[0])"
   ]
  },
  {
   "cell_type": "code",
   "execution_count": null,
   "metadata": {},
   "outputs": [],
   "source": []
  }
 ],
 "metadata": {
  "kernelspec": {
   "display_name": "Python 3",
   "language": "python",
   "name": "python3"
  },
  "language_info": {
   "codemirror_mode": {
    "name": "ipython",
    "version": 3
   },
   "file_extension": ".py",
   "mimetype": "text/x-python",
   "name": "python",
   "nbconvert_exporter": "python",
   "pygments_lexer": "ipython3",
   "version": "3.8.3"
  }
 },
 "nbformat": 4,
 "nbformat_minor": 4
}
