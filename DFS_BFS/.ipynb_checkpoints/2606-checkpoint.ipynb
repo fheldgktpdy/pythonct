{
 "cells": [
  {
   "cell_type": "code",
   "execution_count": 17,
   "metadata": {
    "scrolled": true
   },
   "outputs": [
    {
     "name": "stdout",
     "output_type": "stream",
     "text": [
      "7\n",
      "6\n",
      "1 2\n",
      "2 4\n",
      "4 6\n",
      "1 3\n",
      "3 5\n",
      "5 7\n",
      "[0, 0, '1', '1', '1', '1', '1', '1']\n"
     ]
    }
   ],
   "source": [
    "computer = int(input())\n",
    "link = int(input())\n",
    "num_list=[]\n",
    "graph=[]\n",
    "for i in range(link):\n",
    "    graph.append(list(map(int,input().split())))\n",
    "for i in range(computer+1):\n",
    "    num_list.append(0)\n",
    "'''\n",
    "1부터 시작.\n",
    "virus(1): 해서 연결되어있는 친구를 찾자.\n",
    "virus(y)\n",
    "new list를 만들어서 list에 숫자 추가해주기?(방문여부확인)\n",
    "'''\n",
    "def virus(head):\n",
    "    for i in range(len(graph)):\n",
    "        if graph[i][0]==head:\n",
    "            a = graph[i][1]\n",
    "            if num_list[a] ==0:\n",
    "                num_list[a]='1'\n",
    "                virus(a)\n",
    "        else:continue\n",
    "    return num_list\n",
    "\n",
    "print(virus(1))"
   ]
  },
  {
   "cell_type": "code",
   "execution_count": null,
   "metadata": {},
   "outputs": [],
   "source": []
  },
  {
   "cell_type": "code",
   "execution_count": null,
   "metadata": {},
   "outputs": [],
   "source": []
  }
 ],
 "metadata": {
  "kernelspec": {
   "display_name": "Python 3",
   "language": "python",
   "name": "python3"
  },
  "language_info": {
   "codemirror_mode": {
    "name": "ipython",
    "version": 3
   },
   "file_extension": ".py",
   "mimetype": "text/x-python",
   "name": "python",
   "nbconvert_exporter": "python",
   "pygments_lexer": "ipython3",
   "version": "3.8.3"
  }
 },
 "nbformat": 4,
 "nbformat_minor": 4
}
