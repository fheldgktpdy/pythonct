{
 "cells": [
  {
   "cell_type": "code",
   "execution_count": 24,
   "metadata": {},
   "outputs": [
    {
     "name": "stdout",
     "output_type": "stream",
     "text": [
      "3 2\n",
      "3 1 2\n",
      "1 2\n"
     ]
    }
   ],
   "source": [
    "n,k = map(int,input().split())\n",
    "array = list(map(int,input().split()))\n",
    "sum=0\n",
    "for i in range(n-1,0,-1):\n",
    "    max_num = i\n",
    "    for j in range(i-1,-1,-1):\n",
    "        if array[max_num]<array[j]:\n",
    "            max_num=j\n",
    "    if max_num!=i:\n",
    "        array[i],array[max_num] = array[max_num],array[i]\n",
    "        sum+=1\n",
    "        if sum==k:\n",
    "            print(array[max_num],array[i])\n",
    "            break\n",
    "\n",
    "if sum<k:\n",
    "    print(-1)"
   ]
  },
  {
   "cell_type": "code",
   "execution_count": null,
   "metadata": {},
   "outputs": [],
   "source": []
  }
 ],
 "metadata": {
  "kernelspec": {
   "display_name": "Python 3",
   "language": "python",
   "name": "python3"
  },
  "language_info": {
   "codemirror_mode": {
    "name": "ipython",
    "version": 3
   },
   "file_extension": ".py",
   "mimetype": "text/x-python",
   "name": "python",
   "nbconvert_exporter": "python",
   "pygments_lexer": "ipython3",
   "version": "3.8.3"
  }
 },
 "nbformat": 4,
 "nbformat_minor": 4
}
