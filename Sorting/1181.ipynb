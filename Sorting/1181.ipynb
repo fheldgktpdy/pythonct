{
 "cells": [
  {
   "cell_type": "code",
   "execution_count": 13,
   "metadata": {
    "scrolled": false
   },
   "outputs": [
    {
     "name": "stdout",
     "output_type": "stream",
     "text": [
      "8\n",
      "abdcjkadsj\n",
      "jk\n",
      "jk\n",
      "jk\n",
      "jk\n",
      "jk\n",
      "cc\n",
      "cc\n",
      "cc\n",
      "jk\n",
      "abdcjkadsj\n"
     ]
    }
   ],
   "source": [
    "N = int(input())\n",
    "lis=[]\n",
    "trash=[]\n",
    "for _ in range(N):\n",
    "    a = input()\n",
    "    lis.append(a)\n",
    "for i in range(N-1,0,-1):\n",
    "    max_num = i\n",
    "    for j in range(i-1,-1,-1):\n",
    "        if len(lis[max_num])<len(lis[j]):\n",
    "            max_num = j\n",
    "        elif len(lis[max_num])==len(lis[j]):\n",
    "            if lis[max_num]==lis[j]:\n",
    "                lis[j]='0'\n",
    "            else:\n",
    "                for s in range(len(lis[j])):\n",
    "                    if ord(lis[max_num][s]) < ord(lis[j][s]):\n",
    "                        max_num = j\n",
    "                        break\n",
    "                    elif ord(lis[max_num][s]) == ord(lis[j][s]):\n",
    "                        continue\n",
    "                    else:\n",
    "                        break\n",
    "    if max_num!=i:\n",
    "        lis[i],lis[max_num] = lis[max_num],lis[i]\n",
    "for i in range(len(lis)):\n",
    "    if lis[i]=='0':\n",
    "        continue\n",
    "    print(lis[i])"
   ]
  },
  {
   "cell_type": "code",
   "execution_count": 67,
   "metadata": {},
   "outputs": [
    {
     "name": "stdout",
     "output_type": "stream",
     "text": [
      "[0, 0, 0, 0, 0, 0]\n"
     ]
    }
   ],
   "source": [
    "lis=[0]*6\n",
    "print(lis)"
   ]
  },
  {
   "cell_type": "raw",
   "metadata": {},
   "source": [
    "        if lis[max_num]==lis[j]:\n",
    "            del(lis[j])\n",
    "            j+=1"
   ]
  },
  {
   "cell_type": "code",
   "execution_count": null,
   "metadata": {},
   "outputs": [],
   "source": []
  },
  {
   "cell_type": "code",
   "execution_count": null,
   "metadata": {},
   "outputs": [],
   "source": []
  }
 ],
 "metadata": {
  "kernelspec": {
   "display_name": "Python 3",
   "language": "python",
   "name": "python3"
  },
  "language_info": {
   "codemirror_mode": {
    "name": "ipython",
    "version": 3
   },
   "file_extension": ".py",
   "mimetype": "text/x-python",
   "name": "python",
   "nbconvert_exporter": "python",
   "pygments_lexer": "ipython3",
   "version": "3.8.3"
  }
 },
 "nbformat": 4,
 "nbformat_minor": 4
}
