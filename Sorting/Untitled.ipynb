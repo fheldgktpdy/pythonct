{
 "cells": [
  {
   "cell_type": "code",
   "execution_count": 2,
   "metadata": {},
   "outputs": [
    {
     "name": "stdout",
     "output_type": "stream",
     "text": [
      "5\n",
      "5\n",
      "5\n",
      "5\n",
      "5\n",
      "5\n",
      "10\n"
     ]
    }
   ],
   "source": [
    "'''\n",
    "겹치는 사람이 없다면, 불만도 없이 완성가능!\n",
    "\n",
    "'''\n",
    "n = int(input())\n",
    "lis=[]\n",
    "angry=0\n",
    "for _ in range(n):\n",
    "    lis.append(int(input()))\n",
    "lis = sorted(lis)\n",
    "for i in range(n):\n",
    "    if lis[i]>(i+1):\n",
    "        angry+=lis[i]-(i+1)\n",
    "    elif lis[i]<(i+1):\n",
    "        angry+= (i+1)-lis[i]\n",
    "print(angry)"
   ]
  },
  {
   "cell_type": "code",
   "execution_count": null,
   "metadata": {},
   "outputs": [],
   "source": []
  }
 ],
 "metadata": {
  "kernelspec": {
   "display_name": "Python 3",
   "language": "python",
   "name": "python3"
  },
  "language_info": {
   "codemirror_mode": {
    "name": "ipython",
    "version": 3
   },
   "file_extension": ".py",
   "mimetype": "text/x-python",
   "name": "python",
   "nbconvert_exporter": "python",
   "pygments_lexer": "ipython3",
   "version": "3.8.3"
  }
 },
 "nbformat": 4,
 "nbformat_minor": 4
}
