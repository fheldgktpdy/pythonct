{
 "cells": [
  {
   "cell_type": "code",
   "execution_count": 22,
   "metadata": {},
   "outputs": [
    {
     "name": "stdout",
     "output_type": "stream",
     "text": [
      "4\n",
      "1 8 3 2\n",
      "1 9 2 2\n",
      "[9, 2, 2, 1] [1, 9, 2, 2] [3, 0, 0, 0]\n"
     ]
    }
   ],
   "source": [
    "#### a list의 작은 수들을, b list의 큰 수들에 매칭시키기. a list만 움직일 수 있습니다\n",
    "n = int(input())\n",
    "a = list(map(int,input().split()))\n",
    "b = list(map(int,input().split()))\n",
    "c = b\n",
    "c = sorted(c,reverse=True)\n",
    "a = sorted(a)\n",
    "trash=[]*n\n",
    "for i in range(n):         #b list의 대소관계를 찾아서,list를 하나 더 만들어서 크기 순서 기록 0,1,2,3... 여기에 a[i]매칭?\n",
    "    for k in range():\n",
    "        if c[i]==b[k]:\n",
    "            trash[k]=i\n",
    "print(c,b,trash)"
   ]
  },
  {
   "cell_type": "code",
   "execution_count": 23,
   "metadata": {},
   "outputs": [
    {
     "name": "stdout",
     "output_type": "stream",
     "text": [
      "[]\n"
     ]
    }
   ],
   "source": [
    "trash=[]*6\n",
    "print(trash)"
   ]
  },
  {
   "cell_type": "code",
   "execution_count": null,
   "metadata": {},
   "outputs": [],
   "source": []
  }
 ],
 "metadata": {
  "kernelspec": {
   "display_name": "Python 3",
   "language": "python",
   "name": "python3"
  },
  "language_info": {
   "codemirror_mode": {
    "name": "ipython",
    "version": 3
   },
   "file_extension": ".py",
   "mimetype": "text/x-python",
   "name": "python",
   "nbconvert_exporter": "python",
   "pygments_lexer": "ipython3",
   "version": "3.8.3"
  }
 },
 "nbformat": 4,
 "nbformat_minor": 4
}
