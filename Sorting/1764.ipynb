{
 "cells": [
  {
   "cell_type": "code",
   "execution_count": 11,
   "metadata": {},
   "outputs": [
    {
     "name": "stdout",
     "output_type": "stream",
     "text": [
      "3 4\n",
      "henry\n",
      "babo\n",
      "dsi\n",
      "a;sldkfj\n",
      "dsi\n",
      "babo\n",
      "henry\n",
      "3\n",
      "babo\n",
      "dsi\n",
      "henry\n"
     ]
    }
   ],
   "source": [
    "n,m = map(int,input().split())\n",
    "nolisten = []\n",
    "nosee=[]\n",
    "common=[]\n",
    "for _ in range(n):\n",
    "    nolisten.append(input())\n",
    "for _ in range(m):\n",
    "    nosee.append(input())\n",
    "for i in range(n):\n",
    "    for j in range(m):\n",
    "        if nolisten[i] == nosee[j]:\n",
    "            common.append(nolisten[i])\n",
    "common = sorted(common)\n",
    "print(len(common))\n",
    "for z in range(len(common)):\n",
    "    print(common[z])"
   ]
  },
  {
   "cell_type": "code",
   "execution_count": 9,
   "metadata": {},
   "outputs": [
    {
     "name": "stdout",
     "output_type": "stream",
     "text": [
      "['abc', 'qwer', 'scd']\n"
     ]
    }
   ],
   "source": [
    "b = ['abc', 'qwer', 'scd']\n",
    "b = sorted(b)\n",
    "print(b)"
   ]
  },
  {
   "cell_type": "code",
   "execution_count": null,
   "metadata": {},
   "outputs": [],
   "source": []
  }
 ],
 "metadata": {
  "kernelspec": {
   "display_name": "Python 3",
   "language": "python",
   "name": "python3"
  },
  "language_info": {
   "codemirror_mode": {
    "name": "ipython",
    "version": 3
   },
   "file_extension": ".py",
   "mimetype": "text/x-python",
   "name": "python",
   "nbconvert_exporter": "python",
   "pygments_lexer": "ipython3",
   "version": "3.8.3"
  }
 },
 "nbformat": 4,
 "nbformat_minor": 4
}
