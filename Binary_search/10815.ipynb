{
 "cells": [
  {
   "cell_type": "code",
   "execution_count": 10,
   "metadata": {},
   "outputs": [
    {
     "name": "stdout",
     "output_type": "stream",
     "text": [
      "5\n",
      "6 3 2 10 -10\n",
      "8\n",
      "10 9 -5 2 3 4 5 -10\n",
      "1 0 0 1 1 0 0 1 "
     ]
    }
   ],
   "source": [
    "n = int(input())\n",
    "cri = list(map(int,input().split()))\n",
    "cri = sorted(cri)\n",
    "m = int(input())\n",
    "search = list(map(int,input().split()))\n",
    "ans=[]\n",
    "\n",
    "def binary_search(cri,i,start,end):\n",
    "    while start<=end:\n",
    "        mid = (start+end)//2\n",
    "        if i==cri[mid]:\n",
    "            return 1\n",
    "        elif i<cri[mid]:   # 수가 기준보다 작을떄\n",
    "            end = mid-1\n",
    "        else:\n",
    "            start = mid+1\n",
    "    return 0\n",
    "\n",
    "for j in range(len(search)):\n",
    "    a = binary_search(cri,search[j],0,n-1)\n",
    "    ans.append(a)\n",
    "    \n",
    "for z in range(len(ans)):\n",
    "    print(ans[z],end=' ')"
   ]
  },
  {
   "cell_type": "code",
   "execution_count": null,
   "metadata": {},
   "outputs": [],
   "source": []
  }
 ],
 "metadata": {
  "kernelspec": {
   "display_name": "Python 3",
   "language": "python",
   "name": "python3"
  },
  "language_info": {
   "codemirror_mode": {
    "name": "ipython",
    "version": 3
   },
   "file_extension": ".py",
   "mimetype": "text/x-python",
   "name": "python",
   "nbconvert_exporter": "python",
   "pygments_lexer": "ipython3",
   "version": "3.8.3"
  }
 },
 "nbformat": 4,
 "nbformat_minor": 4
}
