{
 "cells": [
  {
   "cell_type": "code",
   "execution_count": null,
   "metadata": {},
   "outputs": [],
   "source": [
    "def binary_search(array,target,start,end):\n",
    "    while start<=end:\n",
    "        mid = (start+end)//2\n",
    "        if target==array[mid]:\n",
    "            return mid\n",
    "        elif target<array[mid]:  #target이 mid보다작을떄\n",
    "            end = mid-1\n",
    "        else:\n",
    "            start = mid+1\n",
    "    return None"
   ]
  }
 ],
 "metadata": {
  "kernelspec": {
   "display_name": "Python 3",
   "language": "python",
   "name": "python3"
  },
  "language_info": {
   "codemirror_mode": {
    "name": "ipython",
    "version": 3
   },
   "file_extension": ".py",
   "mimetype": "text/x-python",
   "name": "python",
   "nbconvert_exporter": "python",
   "pygments_lexer": "ipython3",
   "version": "3.8.3"
  }
 },
 "nbformat": 4,
 "nbformat_minor": 4
}
