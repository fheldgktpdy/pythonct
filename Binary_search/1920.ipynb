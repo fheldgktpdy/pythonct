{
 "cells": [
  {
   "cell_type": "code",
   "execution_count": 2,
   "metadata": {},
   "outputs": [
    {
     "name": "stdout",
     "output_type": "stream",
     "text": [
      "5\n",
      "4 1 5 2 3\n",
      "5\n",
      "1 3 7 9 5\n",
      "1\n",
      "1\n",
      "0\n",
      "0\n",
      "1\n"
     ]
    }
   ],
   "source": [
    "n=int(input())\n",
    "cri=list(map(int,input().split()))\n",
    "cri = sorted(cri)\n",
    "m=int(input())\n",
    "search=list(map(int,input().split()))\n",
    "ans=[]\n",
    "\n",
    "def binary_search(cri,i,start,end):\n",
    "    while start<=end:\n",
    "        mid = (start+end)//2\n",
    "        if i==cri[mid]:\n",
    "            return 1\n",
    "        elif i<cri[mid]:\n",
    "            end = mid-1\n",
    "        else:\n",
    "            start = mid+1\n",
    "    return 0\n",
    "\n",
    "for i in range(m):\n",
    "    a = binary_search(cri,search[i],0,n-1)\n",
    "    ans.append(a)\n",
    "\n",
    "for j in range(len(ans)):\n",
    "    print(ans[j])"
   ]
  },
  {
   "cell_type": "code",
   "execution_count": null,
   "metadata": {},
   "outputs": [],
   "source": []
  }
 ],
 "metadata": {
  "kernelspec": {
   "display_name": "Python 3",
   "language": "python",
   "name": "python3"
  },
  "language_info": {
   "codemirror_mode": {
    "name": "ipython",
    "version": 3
   },
   "file_extension": ".py",
   "mimetype": "text/x-python",
   "name": "python",
   "nbconvert_exporter": "python",
   "pygments_lexer": "ipython3",
   "version": "3.8.3"
  }
 },
 "nbformat": 4,
 "nbformat_minor": 4
}
