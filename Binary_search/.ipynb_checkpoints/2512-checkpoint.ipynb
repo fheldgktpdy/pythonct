{
 "cells": [
  {
   "cell_type": "code",
   "execution_count": 23,
   "metadata": {
    "scrolled": true
   },
   "outputs": [
    {
     "name": "stdout",
     "output_type": "stream",
     "text": [
      "4\n",
      "100 100 120 120\n",
      "440\n",
      "120\n"
     ]
    }
   ],
   "source": [
    "n=int(input())\n",
    "lis = list(map(int,input().split()))\n",
    "lis = sorted(lis)\n",
    "m=int(input())\n",
    "\n",
    "start = lis[0]\n",
    "end=lis[len(lis)-1]\n",
    "ans=0\n",
    "ans_sum=0\n",
    "\n",
    "first=0\n",
    "\n",
    "for i in range(len(lis)):\n",
    "    first += lis[i]\n",
    "\n",
    "if first<=m:\n",
    "    print(lis[-1])\n",
    "\n",
    "else:\n",
    "    while start<=end:\n",
    "        mid = (start+end)//2\n",
    "        sum=0\n",
    "        for i in range(len(lis)):           #mid 130\n",
    "            if mid>=lis[i]:\n",
    "                sum+=lis[i]\n",
    "            else:\n",
    "                sum+=mid\n",
    "        \n",
    "        if sum>m:\n",
    "            end = mid-1\n",
    "        if ans_sum<= sum and sum<=m:\n",
    "            ans_sum =sum\n",
    "            ans= mid\n",
    "            start = mid+1\n",
    "\n",
    "        elif ans_sum>sum:\n",
    "            start = mid+1\n",
    "    print(ans)"
   ]
  },
  {
   "cell_type": "code",
   "execution_count": 19,
   "metadata": {},
   "outputs": [
    {
     "name": "stdout",
     "output_type": "stream",
     "text": [
      "3\n"
     ]
    }
   ],
   "source": [
    "a=[1,2,3]\n",
    "b=max(a)\n",
    "print(b)"
   ]
  },
  {
   "cell_type": "code",
   "execution_count": null,
   "metadata": {},
   "outputs": [],
   "source": []
  }
 ],
 "metadata": {
  "kernelspec": {
   "display_name": "Python 3",
   "language": "python",
   "name": "python3"
  },
  "language_info": {
   "codemirror_mode": {
    "name": "ipython",
    "version": 3
   },
   "file_extension": ".py",
   "mimetype": "text/x-python",
   "name": "python",
   "nbconvert_exporter": "python",
   "pygments_lexer": "ipython3",
   "version": "3.8.3"
  }
 },
 "nbformat": 4,
 "nbformat_minor": 4
}
