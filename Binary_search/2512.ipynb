{
 "cells": [
  {
   "cell_type": "code",
   "execution_count": 33,
   "metadata": {
    "scrolled": true
   },
   "outputs": [
    {
     "name": "stdout",
     "output_type": "stream",
     "text": [
      "4\n",
      "100 100 120 120\n",
      "440\n",
      "61 120 60 240 440\n",
      "91 120 90 360 440\n",
      "106 120 105 410 440\n",
      "114 120 113 426 440\n",
      "118 120 117 434 440\n",
      "120 120 119 438 440\n",
      "121 120 120 440 440\n",
      "120\n"
     ]
    }
   ],
   "source": [
    "n=int(input())\n",
    "lis = list(map(int,input().split()))\n",
    "m=int(input())\n",
    "\n",
    "start = 0\n",
    "end=max(lis)\n",
    "\n",
    "\n",
    "while start<=end:\n",
    "    mid = (start+end)//2\n",
    "    sum=0\n",
    "    for i in lis:\n",
    "        if mid>=i:\n",
    "            sum+=i\n",
    "        else:\n",
    "            sum+=mid\n",
    "    if sum>m:\n",
    "        end = mid-1\n",
    "    else:\n",
    "        start = mid+1\n",
    "    print(start,end,mid,sum,m)\n",
    "print(end)"
   ]
  },
  {
   "cell_type": "code",
   "execution_count": null,
   "metadata": {},
   "outputs": [],
   "source": []
  }
 ],
 "metadata": {
  "kernelspec": {
   "display_name": "Python 3",
   "language": "python",
   "name": "python3"
  },
  "language_info": {
   "codemirror_mode": {
    "name": "ipython",
    "version": 3
   },
   "file_extension": ".py",
   "mimetype": "text/x-python",
   "name": "python",
   "nbconvert_exporter": "python",
   "pygments_lexer": "ipython3",
   "version": "3.8.3"
  }
 },
 "nbformat": 4,
 "nbformat_minor": 4
}
